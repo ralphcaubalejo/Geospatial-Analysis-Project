{
 "cells": [
  {
   "cell_type": "code",
   "execution_count": 112,
   "id": "detected-edmonton",
   "metadata": {
    "ExecuteTime": {
     "end_time": "2021-05-04T11:43:43.603333Z",
     "start_time": "2021-05-04T11:43:43.592104Z"
    }
   },
   "outputs": [],
   "source": [
    "import psycopg2\n",
    "import numpy as np\n",
    "import pandas as pd\n",
    "import matplotlib.pyplot as plt\n",
    "import geopandas as gpd\n",
    "from OSMPythonTools.nominatim import Nominatim\n",
    "from OSMPythonTools.overpass import overpassQueryBuilder, Overpass\n",
    "import osmnx as ox\n",
    "import matplotlib.pyplot as plt\n",
    "ox.config(log_file=True, log_console=True, use_cache=True)"
   ]
  },
  {
   "cell_type": "code",
   "execution_count": 3,
   "id": "bizarre-maker",
   "metadata": {
    "ExecuteTime": {
     "end_time": "2021-05-04T10:48:37.867175Z",
     "start_time": "2021-05-04T10:48:37.841340Z"
    }
   },
   "outputs": [],
   "source": [
    "conn = psycopg2.connect(dbname=\"postgis\", \n",
    "                 user=\"gsa2021\", \n",
    "                 password=\"5HOA&yn6$B\", \n",
    "                 host=\"192.168.212.99\", \n",
    "                 port=32771)"
   ]
  },
  {
   "cell_type": "code",
   "execution_count": 14,
   "id": "comic-disorder",
   "metadata": {
    "ExecuteTime": {
     "end_time": "2021-05-04T10:57:54.757387Z",
     "start_time": "2021-05-04T10:57:53.454213Z"
    }
   },
   "outputs": [
    {
     "name": "stderr",
     "output_type": "stream",
     "text": [
      "[nominatim] downloading data: search\n"
     ]
    }
   ],
   "source": [
    "nominatim = Nominatim()\n",
    "areaId = nominatim.query('Luzon, Philippines').areaId()"
   ]
  },
  {
   "cell_type": "code",
   "execution_count": 17,
   "id": "settled-screen",
   "metadata": {
    "ExecuteTime": {
     "end_time": "2021-05-04T11:02:49.067277Z",
     "start_time": "2021-05-04T11:02:21.948364Z"
    }
   },
   "outputs": [
    {
     "name": "stderr",
     "output_type": "stream",
     "text": [
      "[overpass] downloading data: [timeout:25][out:json];area(3600443174)->.searchArea;(relation[\"admin_level\"=\"2.5\"](area.searchArea);); out body geom;\n"
     ]
    }
   ],
   "source": [
    "overpass = Overpass()\n",
    "query = overpassQueryBuilder(area=areaId,\n",
    "                             elementType='relation',\n",
    "                             selector='\"admin_level\"=\"2.5\"',\n",
    "                             includeGeometry=True,out='body')\n",
    "result = overpass.query(query)"
   ]
  },
  {
   "cell_type": "code",
   "execution_count": 19,
   "id": "disciplinary-graduation",
   "metadata": {
    "ExecuteTime": {
     "end_time": "2021-05-04T11:03:19.503336Z",
     "start_time": "2021-05-04T11:03:19.495136Z"
    }
   },
   "outputs": [
    {
     "data": {
      "text/plain": [
       "{'admin_level': '2.5',\n",
       " 'alt_name': 'Luzon Island Group',\n",
       " 'boundary': 'administrative',\n",
       " 'name': 'Luzon',\n",
       " 'type': 'boundary',\n",
       " 'wikidata': 'Q2673519',\n",
       " 'wikipedia': 'nl:Luzon (eilandengroep)'}"
      ]
     },
     "execution_count": 19,
     "metadata": {},
     "output_type": "execute_result"
    }
   ],
   "source": [
    "result.elements()[0].tags()"
   ]
  },
  {
   "cell_type": "code",
   "execution_count": 42,
   "id": "interim-grade",
   "metadata": {
    "ExecuteTime": {
     "end_time": "2021-05-04T11:15:31.534965Z",
     "start_time": "2021-05-04T11:15:31.261090Z"
    }
   },
   "outputs": [
    {
     "data": {
      "text/html": [
       "<div>\n",
       "<style scoped>\n",
       "    .dataframe tbody tr th:only-of-type {\n",
       "        vertical-align: middle;\n",
       "    }\n",
       "\n",
       "    .dataframe tbody tr th {\n",
       "        vertical-align: top;\n",
       "    }\n",
       "\n",
       "    .dataframe thead th {\n",
       "        text-align: right;\n",
       "    }\n",
       "</style>\n",
       "<table border=\"1\" class=\"dataframe\">\n",
       "  <thead>\n",
       "    <tr style=\"text-align: right;\">\n",
       "      <th></th>\n",
       "      <th>Name</th>\n",
       "      <th>geom</th>\n",
       "      <th>geometry</th>\n",
       "    </tr>\n",
       "  </thead>\n",
       "  <tbody>\n",
       "    <tr>\n",
       "      <th>0</th>\n",
       "      <td>Luzon</td>\n",
       "      <td>(POLYGON ((118.501564 7.62508, 118.564181 7.65...</td>\n",
       "      <td>MULTIPOLYGON (((118.50156 7.62508, 118.56418 7...</td>\n",
       "    </tr>\n",
       "  </tbody>\n",
       "</table>\n",
       "</div>"
      ],
      "text/plain": [
       "    Name                                               geom  \\\n",
       "0  Luzon  (POLYGON ((118.501564 7.62508, 118.564181 7.65...   \n",
       "\n",
       "                                            geometry  \n",
       "0  MULTIPOLYGON (((118.50156 7.62508, 118.56418 7...  "
      ]
     },
     "execution_count": 42,
     "metadata": {},
     "output_type": "execute_result"
    }
   ],
   "source": [
    "df = pd.DataFrame(columns=['Name','geom'])\n",
    "geo = gpd.read_file(str(result.elements()[0].geometry()))['geometry'][0]\n",
    "df.loc[0] = [result.elements()[0].tag('name'),geo]\n",
    "gdf = gpd.GeoDataFrame(df, geometry=df.geom)\n",
    "gdf"
   ]
  },
  {
   "cell_type": "code",
   "execution_count": 43,
   "id": "genuine-consent",
   "metadata": {
    "ExecuteTime": {
     "end_time": "2021-05-04T11:15:36.788438Z",
     "start_time": "2021-05-04T11:15:36.558930Z"
    }
   },
   "outputs": [
    {
     "data": {
      "text/plain": [
       "<AxesSubplot:>"
      ]
     },
     "execution_count": 43,
     "metadata": {},
     "output_type": "execute_result"
    },
    {
     "data": {
      "image/png": "[encoded data removed]",
      "text/plain": [
       "<Figure size 432x288 with 1 Axes>"
      ]
     },
     "metadata": {
      "needs_background": "light"
     },
     "output_type": "display_data"
    }
   ],
   "source": [
    "gdf.plot()"
   ]
  },
  {
   "cell_type": "code",
   "execution_count": 46,
   "id": "competent-revelation",
   "metadata": {
    "ExecuteTime": {
     "end_time": "2021-05-04T11:15:56.232603Z",
     "start_time": "2021-05-04T11:15:54.714678Z"
    }
   },
   "outputs": [
    {
     "data": {
      "text/html": [
       "<div>\n",
       "<style scoped>\n",
       "    .dataframe tbody tr th:only-of-type {\n",
       "        vertical-align: middle;\n",
       "    }\n",
       "\n",
       "    .dataframe tbody tr th {\n",
       "        vertical-align: top;\n",
       "    }\n",
       "\n",
       "    .dataframe thead th {\n",
       "        text-align: right;\n",
       "    }\n",
       "</style>\n",
       "<table border=\"1\" class=\"dataframe\">\n",
       "  <thead>\n",
       "    <tr style=\"text-align: right;\">\n",
       "      <th></th>\n",
       "      <th>gid</th>\n",
       "      <th>gid_0</th>\n",
       "      <th>name_0</th>\n",
       "      <th>gid_1</th>\n",
       "      <th>name_1</th>\n",
       "      <th>nl_name_1</th>\n",
       "      <th>gid_2</th>\n",
       "      <th>name_2</th>\n",
       "      <th>varname_2</th>\n",
       "      <th>nl_name_2</th>\n",
       "      <th>type_2</th>\n",
       "      <th>engtype_2</th>\n",
       "      <th>cc_2</th>\n",
       "      <th>hasc_2</th>\n",
       "      <th>geom</th>\n",
       "    </tr>\n",
       "  </thead>\n",
       "  <tbody>\n",
       "    <tr>\n",
       "      <th>0</th>\n",
       "      <td>1</td>\n",
       "      <td>PHL</td>\n",
       "      <td>Philippines</td>\n",
       "      <td>PHL.1_1</td>\n",
       "      <td>Abra</td>\n",
       "      <td>None</td>\n",
       "      <td>PHL.1.1_1</td>\n",
       "      <td>Bangued</td>\n",
       "      <td>None</td>\n",
       "      <td>None</td>\n",
       "      <td>Bayan|Munisipyo</td>\n",
       "      <td>Municipality</td>\n",
       "      <td>140101</td>\n",
       "      <td>PH.AB.BN</td>\n",
       "      <td>MULTIPOLYGON (((120.62710 17.49300, 120.62177 ...</td>\n",
       "    </tr>\n",
       "    <tr>\n",
       "      <th>1</th>\n",
       "      <td>2</td>\n",
       "      <td>PHL</td>\n",
       "      <td>Philippines</td>\n",
       "      <td>PHL.1_1</td>\n",
       "      <td>Abra</td>\n",
       "      <td>None</td>\n",
       "      <td>PHL.1.2_1</td>\n",
       "      <td>Boliney</td>\n",
       "      <td>None</td>\n",
       "      <td>None</td>\n",
       "      <td>Bayan|Munisipyo</td>\n",
       "      <td>Municipality</td>\n",
       "      <td>140102</td>\n",
       "      <td>PH.AB.BL</td>\n",
       "      <td>MULTIPOLYGON (((120.99042 17.39802, 120.98631 ...</td>\n",
       "    </tr>\n",
       "    <tr>\n",
       "      <th>2</th>\n",
       "      <td>3</td>\n",
       "      <td>PHL</td>\n",
       "      <td>Philippines</td>\n",
       "      <td>PHL.1_1</td>\n",
       "      <td>Abra</td>\n",
       "      <td>None</td>\n",
       "      <td>PHL.1.3_1</td>\n",
       "      <td>Bucay</td>\n",
       "      <td>None</td>\n",
       "      <td>None</td>\n",
       "      <td>Bayan|Munisipyo</td>\n",
       "      <td>Municipality</td>\n",
       "      <td>140103</td>\n",
       "      <td>PH.AB.BU</td>\n",
       "      <td>MULTIPOLYGON (((120.70788 17.45395, 120.70621 ...</td>\n",
       "    </tr>\n",
       "    <tr>\n",
       "      <th>3</th>\n",
       "      <td>4</td>\n",
       "      <td>PHL</td>\n",
       "      <td>Philippines</td>\n",
       "      <td>PHL.1_1</td>\n",
       "      <td>Abra</td>\n",
       "      <td>None</td>\n",
       "      <td>PHL.1.4_1</td>\n",
       "      <td>Bucloc</td>\n",
       "      <td>None</td>\n",
       "      <td>None</td>\n",
       "      <td>Bayan|Munisipyo</td>\n",
       "      <td>Municipality</td>\n",
       "      <td>140104</td>\n",
       "      <td>PH.AB.BC</td>\n",
       "      <td>MULTIPOLYGON (((120.78956 17.41699, 120.78922 ...</td>\n",
       "    </tr>\n",
       "    <tr>\n",
       "      <th>4</th>\n",
       "      <td>5</td>\n",
       "      <td>PHL</td>\n",
       "      <td>Philippines</td>\n",
       "      <td>PHL.1_1</td>\n",
       "      <td>Abra</td>\n",
       "      <td>None</td>\n",
       "      <td>PHL.1.5_1</td>\n",
       "      <td>Daguioman</td>\n",
       "      <td>None</td>\n",
       "      <td>None</td>\n",
       "      <td>Bayan|Munisipyo</td>\n",
       "      <td>Municipality</td>\n",
       "      <td>140105</td>\n",
       "      <td>PH.AB.DG</td>\n",
       "      <td>MULTIPOLYGON (((120.92917 17.41307, 120.92464 ...</td>\n",
       "    </tr>\n",
       "  </tbody>\n",
       "</table>\n",
       "</div>"
      ],
      "text/plain": [
       "   gid gid_0       name_0    gid_1 name_1 nl_name_1      gid_2     name_2  \\\n",
       "0    1   PHL  Philippines  PHL.1_1   Abra      None  PHL.1.1_1    Bangued   \n",
       "1    2   PHL  Philippines  PHL.1_1   Abra      None  PHL.1.2_1    Boliney   \n",
       "2    3   PHL  Philippines  PHL.1_1   Abra      None  PHL.1.3_1      Bucay   \n",
       "3    4   PHL  Philippines  PHL.1_1   Abra      None  PHL.1.4_1     Bucloc   \n",
       "4    5   PHL  Philippines  PHL.1_1   Abra      None  PHL.1.5_1  Daguioman   \n",
       "\n",
       "  varname_2 nl_name_2           type_2     engtype_2    cc_2    hasc_2  \\\n",
       "0      None      None  Bayan|Munisipyo  Municipality  140101  PH.AB.BN   \n",
       "1      None      None  Bayan|Munisipyo  Municipality  140102  PH.AB.BL   \n",
       "2      None      None  Bayan|Munisipyo  Municipality  140103  PH.AB.BU   \n",
       "3      None      None  Bayan|Munisipyo  Municipality  140104  PH.AB.BC   \n",
       "4      None      None  Bayan|Munisipyo  Municipality  140105  PH.AB.DG   \n",
       "\n",
       "                                                geom  \n",
       "0  MULTIPOLYGON (((120.62710 17.49300, 120.62177 ...  \n",
       "1  MULTIPOLYGON (((120.99042 17.39802, 120.98631 ...  \n",
       "2  MULTIPOLYGON (((120.70788 17.45395, 120.70621 ...  \n",
       "3  MULTIPOLYGON (((120.78956 17.41699, 120.78922 ...  \n",
       "4  MULTIPOLYGON (((120.92917 17.41307, 120.92464 ...  "
      ]
     },
     "execution_count": 46,
     "metadata": {},
     "output_type": "execute_result"
    }
   ],
   "source": [
    "ph_shp = gpd.read_postgis('''\n",
    "SELECT * \n",
    "FROM gadm.ph\n",
    "''',conn,geom_col='geom')\n",
    "ph_shp.head()"
   ]
  },
  {
   "cell_type": "code",
   "execution_count": 47,
   "id": "catholic-grounds",
   "metadata": {
    "ExecuteTime": {
     "end_time": "2021-05-04T11:15:57.591341Z",
     "start_time": "2021-05-04T11:15:56.235037Z"
    }
   },
   "outputs": [
    {
     "data": {
      "text/plain": [
       "<AxesSubplot:>"
      ]
     },
     "execution_count": 47,
     "metadata": {},
     "output_type": "execute_result"
    },
    {
     "data": {
      "image/png": "[encoded data removed]",
      "text/plain": [
       "<Figure size 360x360 with 1 Axes>"
      ]
     },
     "metadata": {
      "needs_background": "light"
     },
     "output_type": "display_data"
    }
   ],
   "source": [
    "ph_shp.plot(figsize=(5,5))"
   ]
  },
  {
   "cell_type": "code",
   "execution_count": 95,
   "id": "pediatric-convergence",
   "metadata": {
    "ExecuteTime": {
     "end_time": "2021-05-04T11:37:55.990233Z",
     "start_time": "2021-05-04T11:37:53.677442Z"
    }
   },
   "outputs": [
    {
     "name": "stderr",
     "output_type": "stream",
     "text": [
      "<ipython-input-95-b668629758d0>:1: UserWarning: CRS mismatch between the CRS of left geometries and the CRS of right geometries.\n",
      "Use `to_crs()` to reproject one of the input geometries to match the CRS of the other.\n",
      "\n",
      "Left CRS: None\n",
      "Right CRS: EPSG:4326\n",
      "\n",
      "  luzon = gpd.overlay(gdf, ph_shp, how='intersection')\n"
     ]
    }
   ],
   "source": [
    "luzon = gpd.overlay(gdf, ph_shp, how='intersection')"
   ]
  },
  {
   "cell_type": "code",
   "execution_count": 96,
   "id": "august-gather",
   "metadata": {
    "ExecuteTime": {
     "end_time": "2021-05-04T11:38:02.008581Z",
     "start_time": "2021-05-04T11:38:01.203834Z"
    }
   },
   "outputs": [
    {
     "data": {
      "text/plain": [
       "<AxesSubplot:>"
      ]
     },
     "execution_count": 96,
     "metadata": {},
     "output_type": "execute_result"
    },
    {
     "data": {
      "image/png": "[encoded data removed]",
      "text/plain": [
       "<Figure size 720x720 with 1 Axes>"
      ]
     },
     "metadata": {
      "needs_background": "light"
     },
     "output_type": "display_data"
    }
   ],
   "source": [
    "luzon.plot(figsize=(10,10))"
   ]
  },
  {
   "cell_type": "code",
   "execution_count": 98,
   "id": "synthetic-maldives",
   "metadata": {
    "ExecuteTime": {
     "end_time": "2021-05-04T11:38:10.172329Z",
     "start_time": "2021-05-04T11:38:10.104925Z"
    }
   },
   "outputs": [
    {
     "data": {
      "text/html": [
       "<div>\n",
       "<style scoped>\n",
       "    .dataframe tbody tr th:only-of-type {\n",
       "        vertical-align: middle;\n",
       "    }\n",
       "\n",
       "    .dataframe tbody tr th {\n",
       "        vertical-align: top;\n",
       "    }\n",
       "\n",
       "    .dataframe thead th {\n",
       "        text-align: right;\n",
       "    }\n",
       "</style>\n",
       "<table border=\"1\" class=\"dataframe\">\n",
       "  <thead>\n",
       "    <tr style=\"text-align: right;\">\n",
       "      <th></th>\n",
       "      <th>name_1</th>\n",
       "      <th>name_2</th>\n",
       "      <th>centroid</th>\n",
       "      <th>geometry</th>\n",
       "    </tr>\n",
       "  </thead>\n",
       "  <tbody>\n",
       "    <tr>\n",
       "      <th>0</th>\n",
       "      <td>Abra</td>\n",
       "      <td>Bangued</td>\n",
       "      <td>POINT (120.60718 17.60052)</td>\n",
       "      <td>POINT (120.60718 17.60052)</td>\n",
       "    </tr>\n",
       "    <tr>\n",
       "      <th>1</th>\n",
       "      <td>Abra</td>\n",
       "      <td>Boliney</td>\n",
       "      <td>POINT (120.86822 17.37966)</td>\n",
       "      <td>POINT (120.86822 17.37966)</td>\n",
       "    </tr>\n",
       "    <tr>\n",
       "      <th>2</th>\n",
       "      <td>Abra</td>\n",
       "      <td>Bucay</td>\n",
       "      <td>POINT (120.72253 17.52285)</td>\n",
       "      <td>POINT (120.72253 17.52285)</td>\n",
       "    </tr>\n",
       "    <tr>\n",
       "      <th>3</th>\n",
       "      <td>Abra</td>\n",
       "      <td>Bucloc</td>\n",
       "      <td>POINT (120.84761 17.43768)</td>\n",
       "      <td>POINT (120.84761 17.43768)</td>\n",
       "    </tr>\n",
       "    <tr>\n",
       "      <th>4</th>\n",
       "      <td>Abra</td>\n",
       "      <td>Daguioman</td>\n",
       "      <td>POINT (120.95165 17.45102)</td>\n",
       "      <td>POINT (120.95165 17.45102)</td>\n",
       "    </tr>\n",
       "  </tbody>\n",
       "</table>\n",
       "</div>"
      ],
      "text/plain": [
       "  name_1     name_2                    centroid                    geometry\n",
       "0   Abra    Bangued  POINT (120.60718 17.60052)  POINT (120.60718 17.60052)\n",
       "1   Abra    Boliney  POINT (120.86822 17.37966)  POINT (120.86822 17.37966)\n",
       "2   Abra      Bucay  POINT (120.72253 17.52285)  POINT (120.72253 17.52285)\n",
       "3   Abra     Bucloc  POINT (120.84761 17.43768)  POINT (120.84761 17.43768)\n",
       "4   Abra  Daguioman  POINT (120.95165 17.45102)  POINT (120.95165 17.45102)"
      ]
     },
     "execution_count": 98,
     "metadata": {},
     "output_type": "execute_result"
    }
   ],
   "source": [
    "luzon['centroid'] = luzon.centroid\n",
    "\n",
    "df_luzon = luzon[['name_1','name_2','centroid']]\n",
    "df_luzon  = gpd.GeoDataFrame(df_luzon , geometry=df_luzon.centroid)\n",
    "df_luzon.head()"
   ]
  },
  {
   "cell_type": "code",
   "execution_count": 99,
   "id": "drawn-attention",
   "metadata": {
    "ExecuteTime": {
     "end_time": "2021-05-04T11:38:13.780224Z",
     "start_time": "2021-05-04T11:38:13.544531Z"
    }
   },
   "outputs": [
    {
     "data": {
      "text/plain": [
       "<AxesSubplot:>"
      ]
     },
     "execution_count": 99,
     "metadata": {},
     "output_type": "execute_result"
    },
    {
     "data": {
      "image/png": "[encoded data removed]",
      "text/plain": [
       "<Figure size 720x720 with 1 Axes>"
      ]
     },
     "metadata": {
      "needs_background": "light"
     },
     "output_type": "display_data"
    }
   ],
   "source": [
    "df_luzon.plot(figsize=(10,10))"
   ]
  },
  {
   "cell_type": "code",
   "execution_count": 100,
   "id": "nearby-termination",
   "metadata": {
    "ExecuteTime": {
     "end_time": "2021-05-04T11:38:16.583942Z",
     "start_time": "2021-05-04T11:38:16.557772Z"
    }
   },
   "outputs": [
    {
     "data": {
      "text/html": [
       "<div>\n",
       "<style scoped>\n",
       "    .dataframe tbody tr th:only-of-type {\n",
       "        vertical-align: middle;\n",
       "    }\n",
       "\n",
       "    .dataframe tbody tr th {\n",
       "        vertical-align: top;\n",
       "    }\n",
       "\n",
       "    .dataframe thead th {\n",
       "        text-align: right;\n",
       "    }\n",
       "</style>\n",
       "<table border=\"1\" class=\"dataframe\">\n",
       "  <thead>\n",
       "    <tr style=\"text-align: right;\">\n",
       "      <th></th>\n",
       "      <th>pop</th>\n",
       "      <th>tot_local_sources</th>\n",
       "      <th>tot_tax_revenue</th>\n",
       "      <th>tot_current_oper_income</th>\n",
       "      <th>total_oper_expenses</th>\n",
       "      <th>net_oper_income</th>\n",
       "      <th>total_non_income_receipts</th>\n",
       "      <th>capital_expenditure</th>\n",
       "      <th>total_non_oper_expenditures</th>\n",
       "      <th>cash_balance_end</th>\n",
       "      <th>shp_province</th>\n",
       "      <th>shp_municipality</th>\n",
       "    </tr>\n",
       "  </thead>\n",
       "  <tbody>\n",
       "    <tr>\n",
       "      <th>0</th>\n",
       "      <td>48163.0</td>\n",
       "      <td>74.045920</td>\n",
       "      <td>36.556294</td>\n",
       "      <td>230.577076</td>\n",
       "      <td>206.848717</td>\n",
       "      <td>23.728359</td>\n",
       "      <td>0.0</td>\n",
       "      <td>16.202464</td>\n",
       "      <td>21.181116</td>\n",
       "      <td>15.758681</td>\n",
       "      <td>Abra</td>\n",
       "      <td>Bangued</td>\n",
       "    </tr>\n",
       "    <tr>\n",
       "      <th>1</th>\n",
       "      <td>3573.0</td>\n",
       "      <td>0.115667</td>\n",
       "      <td>0.035633</td>\n",
       "      <td>56.689883</td>\n",
       "      <td>54.409910</td>\n",
       "      <td>2.279973</td>\n",
       "      <td>0.0</td>\n",
       "      <td>0.000000</td>\n",
       "      <td>0.030000</td>\n",
       "      <td>20.369743</td>\n",
       "      <td>Abra</td>\n",
       "      <td>Boliney</td>\n",
       "    </tr>\n",
       "    <tr>\n",
       "      <th>2</th>\n",
       "      <td>17115.0</td>\n",
       "      <td>1.736411</td>\n",
       "      <td>1.019565</td>\n",
       "      <td>93.647242</td>\n",
       "      <td>66.222389</td>\n",
       "      <td>27.424853</td>\n",
       "      <td>0.0</td>\n",
       "      <td>19.560034</td>\n",
       "      <td>20.792182</td>\n",
       "      <td>6.632671</td>\n",
       "      <td>Abra</td>\n",
       "      <td>Bucay</td>\n",
       "    </tr>\n",
       "    <tr>\n",
       "      <th>3</th>\n",
       "      <td>2501.0</td>\n",
       "      <td>0.273689</td>\n",
       "      <td>0.129150</td>\n",
       "      <td>44.789104</td>\n",
       "      <td>29.633181</td>\n",
       "      <td>15.155923</td>\n",
       "      <td>0.0</td>\n",
       "      <td>0.479569</td>\n",
       "      <td>0.656569</td>\n",
       "      <td>24.348356</td>\n",
       "      <td>Abra</td>\n",
       "      <td>Bucloc</td>\n",
       "    </tr>\n",
       "    <tr>\n",
       "      <th>4</th>\n",
       "      <td>2088.0</td>\n",
       "      <td>0.643801</td>\n",
       "      <td>0.277660</td>\n",
       "      <td>51.242322</td>\n",
       "      <td>47.848486</td>\n",
       "      <td>3.393836</td>\n",
       "      <td>0.0</td>\n",
       "      <td>0.000000</td>\n",
       "      <td>0.000000</td>\n",
       "      <td>6.511575</td>\n",
       "      <td>Abra</td>\n",
       "      <td>Daguioman</td>\n",
       "    </tr>\n",
       "  </tbody>\n",
       "</table>\n",
       "</div>"
      ],
      "text/plain": [
       "       pop  tot_local_sources  tot_tax_revenue  tot_current_oper_income  \\\n",
       "0  48163.0          74.045920        36.556294               230.577076   \n",
       "1   3573.0           0.115667         0.035633                56.689883   \n",
       "2  17115.0           1.736411         1.019565                93.647242   \n",
       "3   2501.0           0.273689         0.129150                44.789104   \n",
       "4   2088.0           0.643801         0.277660                51.242322   \n",
       "\n",
       "   total_oper_expenses  net_oper_income  total_non_income_receipts  \\\n",
       "0           206.848717        23.728359                        0.0   \n",
       "1            54.409910         2.279973                        0.0   \n",
       "2            66.222389        27.424853                        0.0   \n",
       "3            29.633181        15.155923                        0.0   \n",
       "4            47.848486         3.393836                        0.0   \n",
       "\n",
       "   capital_expenditure  total_non_oper_expenditures  cash_balance_end  \\\n",
       "0            16.202464                    21.181116         15.758681   \n",
       "1             0.000000                     0.030000         20.369743   \n",
       "2            19.560034                    20.792182          6.632671   \n",
       "3             0.479569                     0.656569         24.348356   \n",
       "4             0.000000                     0.000000          6.511575   \n",
       "\n",
       "  shp_province shp_municipality  \n",
       "0         Abra          Bangued  \n",
       "1         Abra          Boliney  \n",
       "2         Abra            Bucay  \n",
       "3         Abra           Bucloc  \n",
       "4         Abra        Daguioman  "
      ]
     },
     "execution_count": 100,
     "metadata": {},
     "output_type": "execute_result"
    }
   ],
   "source": [
    "pop = pd.read_csv('financial_pop.csv')\n",
    "pop.head()"
   ]
  },
  {
   "cell_type": "code",
   "execution_count": 105,
   "id": "unable-recommendation",
   "metadata": {
    "ExecuteTime": {
     "end_time": "2021-05-04T11:40:16.477124Z",
     "start_time": "2021-05-04T11:40:16.435520Z"
    }
   },
   "outputs": [
    {
     "data": {
      "text/html": [
       "<div>\n",
       "<style scoped>\n",
       "    .dataframe tbody tr th:only-of-type {\n",
       "        vertical-align: middle;\n",
       "    }\n",
       "\n",
       "    .dataframe tbody tr th {\n",
       "        vertical-align: top;\n",
       "    }\n",
       "\n",
       "    .dataframe thead th {\n",
       "        text-align: right;\n",
       "    }\n",
       "</style>\n",
       "<table border=\"1\" class=\"dataframe\">\n",
       "  <thead>\n",
       "    <tr style=\"text-align: right;\">\n",
       "      <th></th>\n",
       "      <th>name_1</th>\n",
       "      <th>name_2</th>\n",
       "      <th>centroid</th>\n",
       "      <th>geometry</th>\n",
       "      <th>pop</th>\n",
       "      <th>tot_local_sources</th>\n",
       "      <th>tot_tax_revenue</th>\n",
       "      <th>tot_current_oper_income</th>\n",
       "      <th>total_oper_expenses</th>\n",
       "      <th>net_oper_income</th>\n",
       "      <th>total_non_income_receipts</th>\n",
       "      <th>capital_expenditure</th>\n",
       "      <th>total_non_oper_expenditures</th>\n",
       "      <th>cash_balance_end</th>\n",
       "      <th>shp_province</th>\n",
       "      <th>shp_municipality</th>\n",
       "    </tr>\n",
       "  </thead>\n",
       "  <tbody>\n",
       "    <tr>\n",
       "      <th>0</th>\n",
       "      <td>Abra</td>\n",
       "      <td>Bangued</td>\n",
       "      <td>POINT (120.60718 17.60052)</td>\n",
       "      <td>POINT (120.60718 17.60052)</td>\n",
       "      <td>48163.0</td>\n",
       "      <td>74.045920</td>\n",
       "      <td>36.556294</td>\n",
       "      <td>230.577076</td>\n",
       "      <td>206.848717</td>\n",
       "      <td>23.728359</td>\n",
       "      <td>0.0</td>\n",
       "      <td>16.202464</td>\n",
       "      <td>21.181116</td>\n",
       "      <td>15.758681</td>\n",
       "      <td>Abra</td>\n",
       "      <td>Bangued</td>\n",
       "    </tr>\n",
       "    <tr>\n",
       "      <th>1</th>\n",
       "      <td>Abra</td>\n",
       "      <td>Boliney</td>\n",
       "      <td>POINT (120.86822 17.37966)</td>\n",
       "      <td>POINT (120.86822 17.37966)</td>\n",
       "      <td>3573.0</td>\n",
       "      <td>0.115667</td>\n",
       "      <td>0.035633</td>\n",
       "      <td>56.689883</td>\n",
       "      <td>54.409910</td>\n",
       "      <td>2.279973</td>\n",
       "      <td>0.0</td>\n",
       "      <td>0.000000</td>\n",
       "      <td>0.030000</td>\n",
       "      <td>20.369743</td>\n",
       "      <td>Abra</td>\n",
       "      <td>Boliney</td>\n",
       "    </tr>\n",
       "    <tr>\n",
       "      <th>2</th>\n",
       "      <td>Abra</td>\n",
       "      <td>Bucay</td>\n",
       "      <td>POINT (120.72253 17.52285)</td>\n",
       "      <td>POINT (120.72253 17.52285)</td>\n",
       "      <td>17115.0</td>\n",
       "      <td>1.736411</td>\n",
       "      <td>1.019565</td>\n",
       "      <td>93.647242</td>\n",
       "      <td>66.222389</td>\n",
       "      <td>27.424853</td>\n",
       "      <td>0.0</td>\n",
       "      <td>19.560034</td>\n",
       "      <td>20.792182</td>\n",
       "      <td>6.632671</td>\n",
       "      <td>Abra</td>\n",
       "      <td>Bucay</td>\n",
       "    </tr>\n",
       "    <tr>\n",
       "      <th>3</th>\n",
       "      <td>Abra</td>\n",
       "      <td>Bucloc</td>\n",
       "      <td>POINT (120.84761 17.43768)</td>\n",
       "      <td>POINT (120.84761 17.43768)</td>\n",
       "      <td>2501.0</td>\n",
       "      <td>0.273689</td>\n",
       "      <td>0.129150</td>\n",
       "      <td>44.789104</td>\n",
       "      <td>29.633181</td>\n",
       "      <td>15.155923</td>\n",
       "      <td>0.0</td>\n",
       "      <td>0.479569</td>\n",
       "      <td>0.656569</td>\n",
       "      <td>24.348356</td>\n",
       "      <td>Abra</td>\n",
       "      <td>Bucloc</td>\n",
       "    </tr>\n",
       "    <tr>\n",
       "      <th>4</th>\n",
       "      <td>Abra</td>\n",
       "      <td>Daguioman</td>\n",
       "      <td>POINT (120.95165 17.45102)</td>\n",
       "      <td>POINT (120.95165 17.45102)</td>\n",
       "      <td>2088.0</td>\n",
       "      <td>0.643801</td>\n",
       "      <td>0.277660</td>\n",
       "      <td>51.242322</td>\n",
       "      <td>47.848486</td>\n",
       "      <td>3.393836</td>\n",
       "      <td>0.0</td>\n",
       "      <td>0.000000</td>\n",
       "      <td>0.000000</td>\n",
       "      <td>6.511575</td>\n",
       "      <td>Abra</td>\n",
       "      <td>Daguioman</td>\n",
       "    </tr>\n",
       "  </tbody>\n",
       "</table>\n",
       "</div>"
      ],
      "text/plain": [
       "  name_1     name_2                    centroid                    geometry  \\\n",
       "0   Abra    Bangued  POINT (120.60718 17.60052)  POINT (120.60718 17.60052)   \n",
       "1   Abra    Boliney  POINT (120.86822 17.37966)  POINT (120.86822 17.37966)   \n",
       "2   Abra      Bucay  POINT (120.72253 17.52285)  POINT (120.72253 17.52285)   \n",
       "3   Abra     Bucloc  POINT (120.84761 17.43768)  POINT (120.84761 17.43768)   \n",
       "4   Abra  Daguioman  POINT (120.95165 17.45102)  POINT (120.95165 17.45102)   \n",
       "\n",
       "       pop  tot_local_sources  tot_tax_revenue  tot_current_oper_income  \\\n",
       "0  48163.0          74.045920        36.556294               230.577076   \n",
       "1   3573.0           0.115667         0.035633                56.689883   \n",
       "2  17115.0           1.736411         1.019565                93.647242   \n",
       "3   2501.0           0.273689         0.129150                44.789104   \n",
       "4   2088.0           0.643801         0.277660                51.242322   \n",
       "\n",
       "   total_oper_expenses  net_oper_income  total_non_income_receipts  \\\n",
       "0           206.848717        23.728359                        0.0   \n",
       "1            54.409910         2.279973                        0.0   \n",
       "2            66.222389        27.424853                        0.0   \n",
       "3            29.633181        15.155923                        0.0   \n",
       "4            47.848486         3.393836                        0.0   \n",
       "\n",
       "   capital_expenditure  total_non_oper_expenditures  cash_balance_end  \\\n",
       "0            16.202464                    21.181116         15.758681   \n",
       "1             0.000000                     0.030000         20.369743   \n",
       "2            19.560034                    20.792182          6.632671   \n",
       "3             0.479569                     0.656569         24.348356   \n",
       "4             0.000000                     0.000000          6.511575   \n",
       "\n",
       "  shp_province shp_municipality  \n",
       "0         Abra          Bangued  \n",
       "1         Abra          Boliney  \n",
       "2         Abra            Bucay  \n",
       "3         Abra           Bucloc  \n",
       "4         Abra        Daguioman  "
      ]
     },
     "execution_count": 105,
     "metadata": {},
     "output_type": "execute_result"
    }
   ],
   "source": [
    "gdf_pop = df_luzon.merge(pop,left_on=['name_1','name_2'], right_on=['shp_province','shp_municipality'])\n",
    "gdf_pop.head()"
   ]
  },
  {
   "cell_type": "code",
   "execution_count": 110,
   "id": "offensive-brown",
   "metadata": {
    "ExecuteTime": {
     "end_time": "2021-05-04T11:41:23.632735Z",
     "start_time": "2021-05-04T11:41:23.616770Z"
    }
   },
   "outputs": [],
   "source": [
    "gdf_pop = gdf_pop.dropna()"
   ]
  },
  {
   "cell_type": "code",
   "execution_count": 120,
   "id": "presidential-finger",
   "metadata": {
    "ExecuteTime": {
     "end_time": "2021-05-04T11:49:25.528306Z",
     "start_time": "2021-05-04T11:49:25.479689Z"
    }
   },
   "outputs": [],
   "source": [
    "gdf_pop.drop(['centroid','shp_province','shp_municipality'],axis=1).to_csv('centroid_cities.csv',index=False)"
   ]
  },
  {
   "cell_type": "code",
   "execution_count": null,
   "id": "sought-attraction",
   "metadata": {},
   "outputs": [],
   "source": []
  }
 ],
 "metadata": {
  "kernelspec": {
   "display_name": "Python 3",
   "language": "python",
   "name": "python3"
  },
  "language_info": {
   "codemirror_mode": {
    "name": "ipython",
    "version": 3
   },
   "file_extension": ".py",
   "mimetype": "text/x-python",
   "name": "python",
   "nbconvert_exporter": "python",
   "pygments_lexer": "ipython3",
   "version": "3.8.8"
  }
 },
 "nbformat": 4,
 "nbformat_minor": 5
}
